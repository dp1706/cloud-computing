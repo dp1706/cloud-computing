{
 "cells": [
  {
   "cell_type": "code",
   "execution_count": 4,
   "metadata": {},
   "outputs": [],
   "source": [
    "import boto3\n",
    "import time"
   ]
  },
  {
   "cell_type": "code",
   "execution_count": 5,
   "metadata": {},
   "outputs": [],
   "source": [
    "#assignment3 part 1---->\n",
    "\n",
    "s3 = boto3.client('s3')\n",
    "s3.upload_file('assignment_1.pdf', 'dwarka' ,'assignment_1.pdf') \n",
    "\n",
    "\n",
    "\n",
    "#using aws cli command we can upload file \n",
    "\n",
    "# aws s3 cp server_1801061.c s3://dwarka"
   ]
  },
  {
   "cell_type": "code",
   "execution_count": 6,
   "metadata": {},
   "outputs": [],
   "source": [
    "#assignment3 part2----->\n",
    "\n",
    "s3 = boto3.client('s3')\n",
    "s3.download_file('dwarka' , 'assignment_1.pdf','assignment_1_1.pdf')\n",
    "\n",
    "\n",
    "#using aws Cli command in terminal we can also download\n",
    "\n",
    "# aws s3 cp s3://dwarka/assignment_1.pdf /home/dwarka/Videos/test2.pdf"
   ]
  },
  {
   "cell_type": "code",
   "execution_count": 8,
   "metadata": {},
   "outputs": [
    {
     "data": {
      "text/plain": [
       "1670"
      ]
     },
     "execution_count": 8,
     "metadata": {},
     "output_type": "execute_result"
    }
   ],
   "source": [
    "#assignment3 part3----->\n",
    "ec2 = boto3.resource('ec2')\n",
    "\n",
    "\n",
    "outfile = open('ec2-keypair2.pem','w')\n",
    "\n",
    "\n",
    "key_pair = ec2.create_key_pair(KeyName='ec2-keypair2')\n",
    "\n",
    "\n",
    "KeyPairOut = str(key_pair.key_material)\n",
    "outfile.write(KeyPairOut)"
   ]
  },
  {
   "cell_type": "code",
   "execution_count": 9,
   "metadata": {},
   "outputs": [
    {
     "name": "stdout",
     "output_type": "stream",
     "text": [
      "ec2-3-17-77-102.us-east-2.compute.amazonaws.com\n"
     ]
    }
   ],
   "source": [
    "ec2 = boto3.resource('ec2', region_name='us-east-2')\n",
    "fh = open('apache_script.sh')\n",
    "s = ''\n",
    "for lines in fh:\n",
    "\ts += lines\n",
    "\n",
    "instances = ec2.create_instances(\n",
    "    ImageId='ami-07c8bc5c1ce9598c3',\n",
    "    MinCount=1,\n",
    "    MaxCount=1,\n",
    "    InstanceType='t2.micro',\n",
    "    KeyName='dwarka',\n",
    "    SecurityGroupIds=['sg-01f0b320d6d41edf3'],\n",
    "    UserData=s #executed at startup script...\n",
    ")\n",
    "\n",
    "micro_ins = instances[0]\n",
    "micro_ins.wait_until_running()\n",
    "micro_ins.load()\n",
    "print(micro_ins.public_dns_name)"
   ]
  }
 ],
 "metadata": {
  "kernelspec": {
   "display_name": "Python 3",
   "language": "python",
   "name": "python3"
  },
  "language_info": {
   "codemirror_mode": {
    "name": "ipython",
    "version": 3
   },
   "file_extension": ".py",
   "mimetype": "text/x-python",
   "name": "python",
   "nbconvert_exporter": "python",
   "pygments_lexer": "ipython3",
   "version": "3.6.9"
  }
 },
 "nbformat": 4,
 "nbformat_minor": 4
}
