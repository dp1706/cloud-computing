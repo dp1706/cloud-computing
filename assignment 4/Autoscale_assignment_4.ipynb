{
 "cells": [
  {
   "cell_type": "code",
   "execution_count": 1,
   "metadata": {},
   "outputs": [],
   "source": [
    "#Required Modules---\n",
    "\n",
    "import boto.ec2\n",
    "import boto.ec2.elb\n",
    "from boto.ec2.elb import HealthCheck\n",
    "from boto.ec2.autoscale import LaunchConfiguration\n",
    "from boto.ec2.autoscale import AutoScalingGroup\n",
    "from boto.ec2.autoscale import ScalingPolicy\n",
    "from boto.ec2.cloudwatch import MetricAlarm\n",
    "import boto.ec2.cloudwatch"
   ]
  },
  {
   "cell_type": "code",
   "execution_count": 2,
   "metadata": {},
   "outputs": [],
   "source": [
    "#script for install apahche server and copy files from s3 bucket\n",
    "\n",
    "fh = open('apache_script.sh')\n",
    "s = ''\n",
    "for lines in fh:\n",
    "\ts += lines"
   ]
  },
  {
   "cell_type": "code",
   "execution_count": 4,
   "metadata": {},
   "outputs": [
    {
     "data": {
      "text/plain": [
       "Request:d4010627-5cdb-4a5b-9838-ef19205f6f1d"
      ]
     },
     "execution_count": 4,
     "metadata": {},
     "output_type": "execute_result"
    }
   ],
   "source": [
    "#connection for autoscale and creation of launch configuration for autoscaling\n",
    "\n",
    "conn=boto.ec2.autoscale.connect_to_region(\"us-east-2\",aws_access_key_id='AKIAxxxxxxxxxxxxxxx',aws_secret_access_key='MMbLhCzdmL9Kxxxxxxxxxxxxxxxxxxxx')\n",
    "lc = LaunchConfiguration(name='my-launch_config_01', image_id= 'ami-07c8bc5c1ce9598c3',\n",
    "                             key_name='dwarka',instance_type='t2.micro',user_data=s,\n",
    "                             security_groups=['sg-01f0b320d6d41edf3'])\n",
    "conn.create_launch_configuration(lc)"
   ]
  },
  {
   "cell_type": "code",
   "execution_count": 5,
   "metadata": {},
   "outputs": [
    {
     "data": {
      "text/plain": [
       "Request:b2d09796-6d3f-4cac-bd41-24b3792f1287"
      ]
     },
     "execution_count": 5,
     "metadata": {},
     "output_type": "execute_result"
    }
   ],
   "source": [
    "#creating a autoscaling group with load_balancer\n",
    "\n",
    "ag=AutoScalingGroup(group_name='boto_group_1',availability_zones=['us-east-2a','us-east-2b','us-east-2c'],launch_config=lc,min_size=1,max_size=4,connection=conn)\n",
    "#load_balancers=['my-lb'],\n",
    "conn.create_auto_scaling_group(ag)"
   ]
  },
  {
   "cell_type": "code",
   "execution_count": 6,
   "metadata": {},
   "outputs": [
    {
     "data": {
      "text/plain": [
       "[AutoScaleGroup<boto_group>, AutoScaleGroup<boto_group_1>]"
      ]
     },
     "execution_count": 6,
     "metadata": {},
     "output_type": "execute_result"
    }
   ],
   "source": [
    "#getting all existing autoscale group\n",
    "\n",
    "conn.get_all_groups()"
   ]
  },
  {
   "cell_type": "code",
   "execution_count": 7,
   "metadata": {},
   "outputs": [
    {
     "data": {
      "text/plain": [
       "[]"
      ]
     },
     "execution_count": 7,
     "metadata": {},
     "output_type": "execute_result"
    }
   ],
   "source": [
    "#activites\n",
    "\n",
    "conn.get_all_activities(ag)"
   ]
  },
  {
   "cell_type": "code",
   "execution_count": 8,
   "metadata": {},
   "outputs": [],
   "source": [
    "#Scaling a Group Up or Down\n",
    "\n",
    "\n",
    "scale_up_policy = ScalingPolicy(\n",
    "            name='scale_up', adjustment_type='ChangeInCapacity',\n",
    "            as_name='boto_group_1', scaling_adjustment=1, cooldown=180)\n",
    "scale_down_policy = ScalingPolicy(\n",
    "            name='scale_down', adjustment_type='ChangeInCapacity',\n",
    "            as_name='boto_group_1', scaling_adjustment=-1, cooldown=180)"
   ]
  },
  {
   "cell_type": "code",
   "execution_count": 9,
   "metadata": {},
   "outputs": [
    {
     "data": {
      "text/plain": [
       "Request:27e7c1a8-54e4-452f-9eed-212a76a2df94"
      ]
     },
     "execution_count": 9,
     "metadata": {},
     "output_type": "execute_result"
    }
   ],
   "source": [
    "#submiting aws policies to aws\n",
    "\n",
    "conn.create_scaling_policy(scale_up_policy)\n",
    "conn.create_scaling_policy(scale_down_policy)"
   ]
  },
  {
   "cell_type": "code",
   "execution_count": 10,
   "metadata": {},
   "outputs": [],
   "source": [
    "#getting ARN of each policies\n",
    "\n",
    "scale_up_policy = conn.get_all_policies(\n",
    "            as_group='boto_group_1', policy_names=['scale_up'])[0]\n",
    "scale_down_policy = conn.get_all_policies(\n",
    "            as_group='boto_group_1', policy_names=['scale_down'])[0]"
   ]
  },
  {
   "cell_type": "code",
   "execution_count": 11,
   "metadata": {},
   "outputs": [],
   "source": [
    "#Alarm to run the autoscaling policies\n",
    "\n",
    "cloudwatch = boto.ec2.cloudwatch.connect_to_region('us-east-2')\n",
    "alarm_dimensions = {\"AutoScalingGroupName\": 'boto_group_1'}"
   ]
  },
  {
   "cell_type": "code",
   "execution_count": 12,
   "metadata": {},
   "outputs": [
    {
     "data": {
      "text/plain": [
       "True"
      ]
     },
     "execution_count": 12,
     "metadata": {},
     "output_type": "execute_result"
    }
   ],
   "source": [
    "#scale_up alarm\n",
    "\n",
    "scale_up_alarm = MetricAlarm(\n",
    "            name='scale_up_on_cpu', namespace='AWS/EC2',\n",
    "            metric='CPUUtilization', statistic='Average',\n",
    "            comparison='>', threshold='70',\n",
    "            period='60', evaluation_periods=2,\n",
    "            alarm_actions=[scale_up_policy.policy_arn],\n",
    "            dimensions=alarm_dimensions)\n",
    "\n",
    "\n",
    "cloudwatch.create_alarm(scale_up_alarm)"
   ]
  },
  {
   "cell_type": "code",
   "execution_count": 13,
   "metadata": {},
   "outputs": [
    {
     "data": {
      "text/plain": [
       "True"
      ]
     },
     "execution_count": 13,
     "metadata": {},
     "output_type": "execute_result"
    }
   ],
   "source": [
    "#scale_down alarm\n",
    "\n",
    "scale_down_alarm = MetricAlarm(\n",
    "            name='scale_down_on_cpu', namespace='AWS/EC2',\n",
    "            metric='CPUUtilization', statistic='Average',\n",
    "            comparison='<', threshold='40',\n",
    "            period='60', evaluation_periods=2,\n",
    "            alarm_actions=[scale_down_policy.policy_arn],\n",
    "            dimensions=alarm_dimensions)\n",
    "\n",
    "cloudwatch.create_alarm(scale_down_alarm)"
   ]
  },
  {
   "cell_type": "code",
   "execution_count": 14,
   "metadata": {},
   "outputs": [
    {
     "name": "stdout",
     "output_type": "stream",
     "text": [
      "ec2-18-188-229-202.us-east-2.compute.amazonaws.com\n"
     ]
    }
   ],
   "source": [
    "#getting instances belonging to out autoscale group and getting their public DNS name\n",
    "\n",
    "ec2 = boto.ec2.connect_to_region('us-east-2')\n",
    "group = conn.get_all_groups(names=['boto_group_1'])[0]\n",
    "instance_ids = [i.instance_id for i in group.instances]\n",
    "instances = ec2.get_only_instances(instance_ids)\n",
    "for i in instances:\n",
    "    print(i.public_dns_name)"
   ]
  },
  {
   "cell_type": "code",
   "execution_count": 15,
   "metadata": {},
   "outputs": [],
   "source": [
    "#shutdown all autoscale instances\n",
    "\n",
    "ag.shutdown_instances()\n"
   ]
  },
  {
   "cell_type": "code",
   "execution_count": 16,
   "metadata": {},
   "outputs": [
    {
     "data": {
      "text/plain": [
       "Request:ec4e9f51-4a85-4e8f-aa4c-a750503ef7ce"
      ]
     },
     "execution_count": 16,
     "metadata": {},
     "output_type": "execute_result"
    }
   ],
   "source": [
    "#delete autoscale group\n",
    "\n",
    "ag.delete()"
   ]
  },
  {
   "cell_type": "code",
   "execution_count": null,
   "metadata": {},
   "outputs": [],
   "source": []
  }
 ],
 "metadata": {
  "kernelspec": {
   "display_name": "Python 3",
   "language": "python",
   "name": "python3"
  },
  "language_info": {
   "codemirror_mode": {
    "name": "ipython",
    "version": 3
   },
   "file_extension": ".py",
   "mimetype": "text/x-python",
   "name": "python",
   "nbconvert_exporter": "python",
   "pygments_lexer": "ipython3",
   "version": "3.6.9"
  }
 },
 "nbformat": 4,
 "nbformat_minor": 4
}
